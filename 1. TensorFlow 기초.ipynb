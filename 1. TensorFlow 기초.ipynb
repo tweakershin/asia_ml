{
 "cells": [
  {
   "cell_type": "markdown",
   "metadata": {},
   "source": [
    "# 텐서플로우 실행하기"
   ]
  },
  {
   "cell_type": "code",
   "execution_count": null,
   "metadata": {},
   "outputs": [],
   "source": [
    "import tensorflow as tf"
   ]
  },
  {
   "cell_type": "code",
   "execution_count": null,
   "metadata": {},
   "outputs": [],
   "source": [
    "hello = tf.constant('Hello TensorFlow')\n",
    "print(hello)\n",
    "\n",
    "sess = tf.Session()\n",
    "result = sess.run(hello)\n",
    "print(result)\n",
    "sess.close()"
   ]
  },
  {
   "cell_type": "markdown",
   "metadata": {},
   "source": [
    "# 계산그래프 만들기"
   ]
  },
  {
   "cell_type": "code",
   "execution_count": null,
   "metadata": {},
   "outputs": [],
   "source": [
    "import tensorflow as tf\n",
    "\n",
    "node1 = tf.constant(3, tf.float32) # explicitly dtype=tf.float32\n",
    "node2 = tf.constant(4.0) # implicitly  tf.float32\n",
    "node3 = tf.add(node1, node2)"
   ]
  },
  {
   "cell_type": "code",
   "execution_count": null,
   "metadata": {},
   "outputs": [],
   "source": [
    "# node1, node2, node3는 텐서 - 노드일뿐\n",
    "print(\"node1: \", node1)\n",
    "print(\"node2: \", node2)\n",
    "print(\"node3: \", node3)"
   ]
  },
  {
   "cell_type": "code",
   "execution_count": null,
   "metadata": {},
   "outputs": [],
   "source": [
    "session = tf.Session()\n",
    "print(\"session.run([node1, node2]): \", session.run([node1, node2]))\n",
    "print(\"session.run(node3): \", session.run(node3))\n",
    "\n",
    "session.close() # session을 열었으면 닫아줘야함.(파일과 똑같이)\n"
   ]
  },
  {
   "cell_type": "markdown",
   "metadata": {},
   "source": [
    "# TensorFlow 자료형"
   ]
  },
  {
   "cell_type": "markdown",
   "metadata": {},
   "source": [
    "### Constant"
   ]
  },
  {
   "cell_type": "code",
   "execution_count": null,
   "metadata": {},
   "outputs": [],
   "source": [
    "# 다른 type으로\n",
    "a = tf.constant(1, dtype=tf.float32)\n",
    "print(a)\n",
    "print(a.shape)\n",
    "with tf.Session() as session:\n",
    "    print(session.run(a))"
   ]
  },
  {
   "cell_type": "code",
   "execution_count": null,
   "metadata": {},
   "outputs": [],
   "source": [
    "# 다른 Shape으로\n",
    "a = tf.constant(1, dtype=tf.float32, shape=(1,))\n",
    "print(a)\n",
    "print(a.shape)\n",
    "with tf.Session() as session:\n",
    "    print(session.run(a))"
   ]
  },
  {
   "cell_type": "code",
   "execution_count": null,
   "metadata": {},
   "outputs": [],
   "source": [
    "# 2차원으로 설정\n",
    "a = tf.constant(1, dtype=tf.float32, shape=(1,1))\n",
    "print(a)\n",
    "print(a.shape)\n",
    "with tf.Session() as session:\n",
    "    print(session.run(a))"
   ]
  },
  {
   "cell_type": "markdown",
   "metadata": {},
   "source": [
    "### Placeholder"
   ]
  },
  {
   "cell_type": "code",
   "execution_count": null,
   "metadata": {},
   "outputs": [],
   "source": [
    "import tensorflow as tf\n",
    "\n",
    "input_data = [1, 2, 3]\n",
    "x = tf.placeholder(dtype=tf.float32)\n",
    "\n",
    "y = x * 2\n",
    "print(\"x: \", x)\n",
    "print(\"y: \", y)\n",
    "\n",
    "\n",
    "session = tf.Session()\n",
    "\n",
    "# feed_dict를 통해 값을 전달합니다.\n",
    "result = session.run(y, feed_dict={x:input_data})\n",
    "print(result)\n",
    "session.close()"
   ]
  },
  {
   "cell_type": "markdown",
   "metadata": {},
   "source": [
    "### Variable"
   ]
  },
  {
   "cell_type": "code",
   "execution_count": null,
   "metadata": {},
   "outputs": [],
   "source": [
    "x = tf.placeholder(dtype=tf.float32)\n",
    "x_data = [1, 2, 4]\n",
    "\n",
    "# 초기값: tf.random_normal([1, 3], stddev=0.35)\n",
    "weights = tf.Variable([3], dtype=tf.float32)\n",
    "biases = tf.Variable([4], dtype=tf.float32)\n",
    "\n",
    "y = weights*x + biases\n",
    "\n",
    "print(\"x: \", x)\n",
    "print('weights: ', weights)\n",
    "print('biases:', biases)\n"
   ]
  },
  {
   "cell_type": "markdown",
   "metadata": {},
   "source": [
    "### 개별 initializer"
   ]
  },
  {
   "cell_type": "code",
   "execution_count": null,
   "metadata": {},
   "outputs": [],
   "source": [
    "with tf.Session() as session:\n",
    "    # 초기화 오퍼레이션을 실행\n",
    "    session.run([weights.initializer, biases.initializer])\n",
    "    \n",
    "    result = session.run(y, feed_dict={x:x_data})\n",
    "    print(result)\n",
    "    \n",
    "    # 변수 변경 // 변수 재 할당\n",
    "    session.run(tf.assign(weights, [2]))\n",
    "    \n",
    "    # 다시 실행\n",
    "    result = session.run(y, feed_dict={x:x_data})\n",
    "    print(result)"
   ]
  },
  {
   "cell_type": "markdown",
   "metadata": {},
   "source": [
    "### 전체 변수 한번에 초기화 - global_variables_initializer"
   ]
  },
  {
   "cell_type": "code",
   "execution_count": null,
   "metadata": {},
   "outputs": [],
   "source": [
    "x = tf.placeholder(dtype=tf.float32)\n",
    "x_data = [1, 2, 4]\n",
    "\n",
    "# 초기값: tf.random_normal([1, 3], stddev=0.35)\n",
    "weights = tf.Variable([3], dtype=tf.float32)\n",
    "biases = tf.Variable([4], dtype=tf.float32)\n",
    "\n",
    "y = weights*x + biases\n",
    "\n",
    "print(\"x: \", x)\n",
    "print('weights: ', weights)\n",
    "print('biases:', biases)\n"
   ]
  },
  {
   "cell_type": "code",
   "execution_count": null,
   "metadata": {},
   "outputs": [],
   "source": [
    "# 변수 초기화 작업\n",
    "init_op = tf.global_variables_initializer()\n",
    "\n",
    "with tf.Session() as session:\n",
    "    # 초기화 오퍼레이션을 실행\n",
    "    session.run(init_op)\n",
    "    \n",
    "    result = session.run(y, feed_dict={x:x_data})\n",
    "    print(result)\n",
    "    \n",
    "    # 변수 변경 // 변수 재 할당\n",
    "    session.run(tf.assign(weights, [2]))\n",
    "    \n",
    "    # 다시 실행\n",
    "    result = session.run(y, feed_dict={x:x_data})\n",
    "    print(result)"
   ]
  },
  {
   "cell_type": "code",
   "execution_count": null,
   "metadata": {},
   "outputs": [],
   "source": []
  },
  {
   "cell_type": "code",
   "execution_count": null,
   "metadata": {},
   "outputs": [],
   "source": []
  },
  {
   "cell_type": "markdown",
   "metadata": {},
   "source": [
    "# Tensor의 속성"
   ]
  },
  {
   "cell_type": "code",
   "execution_count": null,
   "metadata": {},
   "outputs": [],
   "source": [
    "a = tf.constant(1) # 0차원\n",
    "b = tf.constant([1, 2], dtype=tf.float32) # 1차원\n",
    "c = tf.constant([[1, 2], [3,4]], dtype=tf.int32) # 2차원, = 행렬\n",
    "d = tf.constant(\n",
    "    [\n",
    "        [[1.0,2.0],[3, 4]],\n",
    "        [[5,6],[7, 8]]\n",
    "    ]\n",
    ") # 3차원\n",
    "# ...\n",
    "print('a: ', a)\n",
    "print('b: ', b)\n",
    "print('c: ', c)\n",
    "print('d: ', d)"
   ]
  },
  {
   "cell_type": "markdown",
   "metadata": {},
   "source": [
    "## rank"
   ]
  },
  {
   "cell_type": "code",
   "execution_count": null,
   "metadata": {},
   "outputs": [],
   "source": [
    "print(\"a's rank: \", a._rank())\n",
    "print(\"b's rank: \", b._rank())\n",
    "print(\"c's rank: \", c._rank())\n",
    "print(\"d's rank: \", d._rank())\n",
    "\n",
    "print(\"-\"*50)\n",
    "# 아래는  텐서로 반환\n",
    "print(\"a's rank: \", tf.rank(a))\n",
    "print(\"b's rank: \", tf.rank(b))\n",
    "print(\"c's rank: \", tf.rank(c))\n",
    "print(\"d's rank: \", tf.rank(d))"
   ]
  },
  {
   "cell_type": "markdown",
   "metadata": {},
   "source": [
    "## Shape"
   ]
  },
  {
   "cell_type": "code",
   "execution_count": null,
   "metadata": {},
   "outputs": [],
   "source": [
    "m,n = c.get_shape()\n",
    "m, n"
   ]
  },
  {
   "cell_type": "code",
   "execution_count": null,
   "metadata": {},
   "outputs": [],
   "source": [
    "print(\"a's shape: \", a.get_shape())\n",
    "# print(\"a's shape: \", a.shape)# 같은 결과\n",
    "print(\"b's shape: \", b.get_shape())\n",
    "print(\"c's shape: \", c.get_shape())\n",
    "print(\"d's shape: \", d.get_shape())\n",
    "\n",
    "print(\"-\"*50)\n",
    "\n",
    "# 아래는  텐서로 반환\n",
    "print(\"a's shape: \", tf.shape(a))\n",
    "print(\"b's shape: \", tf.shape(b))\n",
    "print(\"c's shape: \", tf.shape(c))\n",
    "print(\"d's shape: \", tf.shape(d))"
   ]
  },
  {
   "cell_type": "markdown",
   "metadata": {},
   "source": [
    "## dtype"
   ]
  },
  {
   "cell_type": "code",
   "execution_count": null,
   "metadata": {},
   "outputs": [],
   "source": [
    "print(\"a's type: \", a.dtype)\n",
    "print(\"b's type: \", b.dtype)\n",
    "print(\"c's type: \", c.dtype)\n",
    "print(\"d's type: \", d.dtype)"
   ]
  },
  {
   "cell_type": "markdown",
   "metadata": {},
   "source": [
    "# Session 관리"
   ]
  },
  {
   "cell_type": "markdown",
   "metadata": {},
   "source": [
    "### tf.get_default_session()"
   ]
  },
  {
   "cell_type": "code",
   "execution_count": null,
   "metadata": {},
   "outputs": [],
   "source": [
    "session = tf.get_default_session()\n",
    "print(session)"
   ]
  },
  {
   "cell_type": "code",
   "execution_count": null,
   "metadata": {},
   "outputs": [],
   "source": [
    "with tf.Session() as sess:\n",
    "    print(tf.get_default_session())"
   ]
  },
  {
   "cell_type": "markdown",
   "metadata": {},
   "source": [
    "### eval(), initializer.run()"
   ]
  },
  {
   "cell_type": "code",
   "execution_count": null,
   "metadata": {},
   "outputs": [],
   "source": [
    "a = tf.constant(2, dtype=tf.float32)\n",
    "b = tf.Variable(3, dtype=tf.float32)\n",
    "c = a * b\n"
   ]
  },
  {
   "cell_type": "code",
   "execution_count": null,
   "metadata": {},
   "outputs": [],
   "source": [
    "with tf.Session() as sess:\n",
    "    print(sess.run(b.initializer))\n",
    "    print(sess.run(a))\n",
    "    print(sess.run(c))\n",
    "\n",
    "    print('-'*10)\n",
    "    #### 똑같은 결과\n",
    "    print(b.initializer.run())\n",
    "    # tf.get_default_session().run(b.initializer)\n",
    "    print(a.eval())\n",
    "    print(c.eval())"
   ]
  },
  {
   "cell_type": "markdown",
   "metadata": {},
   "source": [
    "### tf.InteractiveSesison"
   ]
  },
  {
   "cell_type": "code",
   "execution_count": null,
   "metadata": {},
   "outputs": [],
   "source": [
    "sess = tf.InteractiveSession()\n",
    "sess.run(b.initializer)\n",
    "print(a.eval())\n",
    "print(c.eval())\n",
    "sess.close()"
   ]
  },
  {
   "cell_type": "markdown",
   "metadata": {},
   "source": [
    "# Graph 관리하기"
   ]
  },
  {
   "cell_type": "markdown",
   "metadata": {},
   "source": [
    "### get_default_graph()"
   ]
  },
  {
   "cell_type": "code",
   "execution_count": null,
   "metadata": {},
   "outputs": [],
   "source": [
    "tf.get_default_graph()"
   ]
  },
  {
   "cell_type": "code",
   "execution_count": null,
   "metadata": {},
   "outputs": [],
   "source": [
    "a = tf.Variable(3)\n",
    "a.graph is tf.get_default_graph()"
   ]
  },
  {
   "cell_type": "markdown",
   "metadata": {},
   "source": [
    "### Graph객체"
   ]
  },
  {
   "cell_type": "code",
   "execution_count": null,
   "metadata": {},
   "outputs": [],
   "source": [
    "graph = tf.Graph()\n",
    "with graph.as_default():\n",
    "    b = tf.Variable(2)\n",
    "    "
   ]
  },
  {
   "cell_type": "code",
   "execution_count": null,
   "metadata": {},
   "outputs": [],
   "source": [
    "b.graph is graph"
   ]
  },
  {
   "cell_type": "code",
   "execution_count": null,
   "metadata": {},
   "outputs": [],
   "source": [
    "tf.get_default_graph().get_operations()"
   ]
  },
  {
   "cell_type": "code",
   "execution_count": null,
   "metadata": {},
   "outputs": [],
   "source": [
    "tf.reset_default_graph()\n",
    "tf.get_default_graph().get_operations()"
   ]
  },
  {
   "cell_type": "markdown",
   "metadata": {},
   "source": [
    "# 자주 쓰이는 함수들"
   ]
  },
  {
   "cell_type": "markdown",
   "metadata": {},
   "source": [
    "## 상수만드는 함수"
   ]
  },
  {
   "cell_type": "markdown",
   "metadata": {},
   "source": [
    "### zeros"
   ]
  },
  {
   "cell_type": "code",
   "execution_count": null,
   "metadata": {},
   "outputs": [],
   "source": [
    "a = tf.zeros((3,3), tf.float32)\n",
    "print(a)\n",
    "print('-'*30)\n",
    "with tf.Session() as sess:\n",
    "    print(sess.run(a))"
   ]
  },
  {
   "cell_type": "markdown",
   "metadata": {},
   "source": [
    "### zeros_like"
   ]
  },
  {
   "cell_type": "code",
   "execution_count": null,
   "metadata": {},
   "outputs": [],
   "source": [
    "a = tf.constant([[1,2,3],[4,5,6]])\n",
    "print(a.get_shape())\n",
    "\n",
    "print('-'*30)\n",
    "\n",
    "b = tf.zeros_like(a, tf.float32)\n",
    "print(b.get_shape())\n",
    "with tf.Session() as sess:\n",
    "    print(sess.run(b))"
   ]
  },
  {
   "cell_type": "markdown",
   "metadata": {},
   "source": [
    "### ones"
   ]
  },
  {
   "cell_type": "code",
   "execution_count": null,
   "metadata": {},
   "outputs": [],
   "source": [
    "a = tf.ones((3,3), tf.float32)\n",
    "print(a)\n",
    "print('-'*30)\n",
    "with tf.Session() as sess:\n",
    "    print(sess.run(a))"
   ]
  },
  {
   "cell_type": "markdown",
   "metadata": {},
   "source": [
    "### ones_like"
   ]
  },
  {
   "cell_type": "code",
   "execution_count": null,
   "metadata": {},
   "outputs": [],
   "source": [
    "a = tf.constant([[1,2,3],[4,5,6]])\n",
    "print(a.get_shape())\n",
    "\n",
    "print('-'*30)\n",
    "\n",
    "b = tf.ones_like(a, tf.float32)\n",
    "print(b.get_shape())\n",
    "with tf.Session() as sess:\n",
    "    print(sess.run(b))"
   ]
  },
  {
   "cell_type": "markdown",
   "metadata": {},
   "source": [
    "## 시퀀스 만드는 함수"
   ]
  },
  {
   "cell_type": "markdown",
   "metadata": {},
   "source": [
    "### linspace"
   ]
  },
  {
   "cell_type": "code",
   "execution_count": null,
   "metadata": {},
   "outputs": [],
   "source": [
    "a = tf.linspace(1.0, 3.0, 10)\n",
    "print(a)\n",
    "print('-'*30)\n",
    "with tf.Session() as sess:\n",
    "    print(sess.run(a))"
   ]
  },
  {
   "cell_type": "markdown",
   "metadata": {},
   "source": [
    "### range"
   ]
  },
  {
   "cell_type": "code",
   "execution_count": null,
   "metadata": {},
   "outputs": [],
   "source": [
    "# start: 3, limit: 18, delta: 3\n",
    "a = tf.range(3, 18, 3)\n",
    "\n",
    "# limit:5\n",
    "b = tf.range(5)\n",
    "\n",
    "print(a)\n",
    "print(b)\n",
    "print('-'*30)\n",
    "with tf.Session() as sess:\n",
    "    print(\"a: \", sess.run(a))\n",
    "    print(\"b: \", sess.run(b))"
   ]
  },
  {
   "cell_type": "markdown",
   "metadata": {},
   "source": [
    "## 난수 추출 함수"
   ]
  },
  {
   "cell_type": "markdown",
   "metadata": {},
   "source": [
    "### random_normal"
   ]
  },
  {
   "cell_type": "code",
   "execution_count": null,
   "metadata": {},
   "outputs": [],
   "source": [
    "a = tf.random_normal((3,3), dtype=tf.float32)\n",
    "print(a)\n",
    "print('-'*30)\n",
    "with tf.Session() as sess:\n",
    "    print(sess.run(a))"
   ]
  },
  {
   "cell_type": "markdown",
   "metadata": {},
   "source": [
    "### ranom_uniform"
   ]
  },
  {
   "cell_type": "code",
   "execution_count": null,
   "metadata": {},
   "outputs": [],
   "source": [
    "a = tf.random_uniform((3,3), dtype=tf.float32)\n",
    "print(a)\n",
    "print('-'*30)\n",
    "with tf.Session() as sess:\n",
    "    print(sess.run(a))"
   ]
  },
  {
   "cell_type": "markdown",
   "metadata": {},
   "source": [
    "### random_shuffle"
   ]
  },
  {
   "cell_type": "code",
   "execution_count": null,
   "metadata": {},
   "outputs": [],
   "source": [
    "a = tf.range(1, 20, 3)\n",
    "b = tf.random_shuffle(a, seed=42)\n",
    "\n",
    "print(b)\n",
    "print('-'*30)\n",
    "with tf.Session() as sess:\n",
    "    print(sess.run(b))"
   ]
  },
  {
   "cell_type": "markdown",
   "metadata": {},
   "source": [
    "## 텐서변환"
   ]
  },
  {
   "cell_type": "markdown",
   "metadata": {},
   "source": [
    "### tf.cast"
   ]
  },
  {
   "cell_type": "code",
   "execution_count": null,
   "metadata": {},
   "outputs": [],
   "source": [
    "a = tf.constant(2.2, dtype=tf.float32)\n",
    "print(a)\n",
    "b = tf.cast(a, tf.int32)\n",
    "print(b)"
   ]
  },
  {
   "cell_type": "markdown",
   "metadata": {},
   "source": [
    "### tf.reshape"
   ]
  },
  {
   "cell_type": "code",
   "execution_count": null,
   "metadata": {},
   "outputs": [],
   "source": [
    "a = tf.linspace(1.0, 10, 100)\n",
    "tf.reshape(a, (10, -1))"
   ]
  },
  {
   "cell_type": "markdown",
   "metadata": {},
   "source": [
    "## 수학함수"
   ]
  },
  {
   "cell_type": "markdown",
   "metadata": {},
   "source": [
    "### tf.abs"
   ]
  },
  {
   "cell_type": "code",
   "execution_count": null,
   "metadata": {},
   "outputs": [],
   "source": [
    "a = tf.range(-10.0, 10, dtype=tf.float32)\n",
    "b = tf.abs(a)\n",
    "\n",
    "with tf.Session() as sess:\n",
    "    print(sess.run(a))\n",
    "    print('-'*30)\n",
    "    print(sess.run(b))"
   ]
  },
  {
   "cell_type": "markdown",
   "metadata": {},
   "source": [
    "### tf.sqrt"
   ]
  },
  {
   "cell_type": "code",
   "execution_count": null,
   "metadata": {},
   "outputs": [],
   "source": [
    "a = tf.range(0, 20, dtype=tf.float32)\n",
    "b = tf.sqrt(a)\n",
    "\n",
    "with tf.Session() as sess:\n",
    "    print(sess.run(a))\n",
    "    print('-'*30)\n",
    "    print(sess.run(b))"
   ]
  },
  {
   "cell_type": "markdown",
   "metadata": {},
   "source": [
    "### tf.exp"
   ]
  },
  {
   "cell_type": "code",
   "execution_count": null,
   "metadata": {},
   "outputs": [],
   "source": [
    "a = tf.range(0, 20, dtype=tf.float32)\n",
    "b = tf.exp(a)\n",
    "\n",
    "with tf.Session() as sess:\n",
    "    print(sess.run(a))\n",
    "    print('-'*30)\n",
    "    print(sess.run(b))"
   ]
  },
  {
   "cell_type": "markdown",
   "metadata": {},
   "source": [
    "### tf.log"
   ]
  },
  {
   "cell_type": "code",
   "execution_count": null,
   "metadata": {},
   "outputs": [],
   "source": [
    "a = tf.range(1, 20, dtype=tf.float32)\n",
    "b = tf.log(a)\n",
    "\n",
    "with tf.Session() as sess:\n",
    "    print(sess.run(a))\n",
    "    print('-'*30)\n",
    "    print(sess.run(b))"
   ]
  },
  {
   "cell_type": "markdown",
   "metadata": {},
   "source": [
    "### matrix  "
   ]
  },
  {
   "cell_type": "code",
   "execution_count": null,
   "metadata": {},
   "outputs": [],
   "source": [
    "X = tf.range(20, dtype=tf.float32)\n",
    "X = tf.reshape(X, (4,5))\n",
    "\n",
    "\n",
    "Y = tf.ones((4,5), dtype=tf.float32)\n",
    "print(X.shape, Y.shape)"
   ]
  },
  {
   "cell_type": "code",
   "execution_count": null,
   "metadata": {},
   "outputs": [],
   "source": []
  },
  {
   "cell_type": "code",
   "execution_count": null,
   "metadata": {},
   "outputs": [],
   "source": [
    "# XY = tf.matmul(X, Y) # 오류 발생\n",
    "Y = tf.transpose(Y)\n",
    "print(X.shape, Y.shape)"
   ]
  },
  {
   "cell_type": "code",
   "execution_count": null,
   "metadata": {},
   "outputs": [],
   "source": [
    "XY = tf.matmul(X,Y)\n",
    "print(XY)\n",
    "\n",
    "with tf.Session() as sess:\n",
    "    print('-'*30)\n",
    "    print(sess.run(XY))"
   ]
  },
  {
   "cell_type": "markdown",
   "metadata": {},
   "source": [
    "## Reduce --- (sum, prod, min, max, mean, ...)"
   ]
  },
  {
   "cell_type": "markdown",
   "metadata": {},
   "source": [
    "차원을 줄이면서 ~~~ 한다."
   ]
  },
  {
   "cell_type": "code",
   "execution_count": null,
   "metadata": {},
   "outputs": [],
   "source": [
    "X = [[1, 2],\n",
    "     [3, 4]]\n",
    "\n",
    "r_sum0 = tf.reduce_sum(X) # 첫번째 배열 (바깥쪽)\n",
    "r_sum1 = tf.reduce_sum(X, axis=0) # 첫번째 배열 (바깥쪽)\n",
    "r_sum2 = tf.reduce_sum(X, axis=1) # 두번째 배열 (안쪽)\n",
    "\n",
    "with tf.Session() as sess:\n",
    "    print(sess.run(r_sum0))\n",
    "    print('-'*30)\n",
    "    \n",
    "    print(sess.run(r_sum1))\n",
    "    print('-'*30)\n",
    "    print(sess.run(r_sum2))"
   ]
  },
  {
   "cell_type": "code",
   "execution_count": null,
   "metadata": {},
   "outputs": [],
   "source": [
    "X = [[1, 2],\n",
    "     [3, 4]]\n",
    "\n",
    "r_prod0 = tf.reduce_prod(X) # 첫번째 배열 (바깥쪽)\n",
    "r_prod1 = tf.reduce_prod(X, axis=0) # 첫번째 배열 (바깥쪽)\n",
    "r_prod2 = tf.reduce_prod(X, axis=1) # 두번째 배열 (안쪽)\n",
    "\n",
    "with tf.Session() as sess:\n",
    "    print(sess.run(r_prod0))\n",
    "    print('-'*30)\n",
    "    \n",
    "    print(sess.run(r_prod1))\n",
    "    print('-'*30)\n",
    "    print(sess.run(r_prod2))"
   ]
  },
  {
   "cell_type": "code",
   "execution_count": null,
   "metadata": {},
   "outputs": [],
   "source": []
  }
 ],
 "metadata": {
  "kernelspec": {
   "display_name": "Python 3",
   "language": "python",
   "name": "python3"
  },
  "language_info": {
   "codemirror_mode": {
    "name": "ipython",
    "version": 3
   },
   "file_extension": ".py",
   "mimetype": "text/x-python",
   "name": "python",
   "nbconvert_exporter": "python",
   "pygments_lexer": "ipython3",
   "version": "3.6.8"
  }
 },
 "nbformat": 4,
 "nbformat_minor": 2
}
